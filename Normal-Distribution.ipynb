{
 "cells": [
  {
   "cell_type": "markdown",
   "metadata": {},
   "source": [
    "## 正規分布とその応用\n",
    "所持しているデータが正規分布であると仮定すると、シミュレーションをすることなく計算を行うだけで様々なことがわかります。\n",
    "このファイルでは、正規分布の性質とその計算、Pythonのライブラリの使い方の復習を行います。"
   ]
  },
  {
   "cell_type": "code",
   "execution_count": 13,
   "metadata": {},
   "outputs": [],
   "source": [
    "import numpy as np\n",
    "import scipy as sp\n",
    "from scipy import stats\n",
    "from matplotlib import pyplot as plt\n",
    "import pandas as pd\n",
    "import seaborn as sns\n",
    "sns.set()\n",
    "%precision 3\n",
    "%matplotlib inline"
   ]
  },
  {
   "cell_type": "markdown",
   "metadata": {},
   "source": [
    "### 確率密度\n",
    "連続型確率変数の場合には確率変数がある一点の値をとる確率は0になることから、縦軸は確率ではなく「確率密度」というものを使います。確率密度は定義域内でのXの値の「相対的な出やすさ」を表すものです。"
   ]
  },
  {
   "cell_type": "code",
   "execution_count": 14,
   "metadata": {},
   "outputs": [
    {
     "data": {
      "text/plain": [
       "0.228"
      ]
     },
     "execution_count": 14,
     "metadata": {},
     "output_type": "execute_result"
    }
   ],
   "source": [
    "x = 3\n",
    "mu = 4\n",
    "sigma = 0.8\n",
    "\n",
    "1 / (sp.sqrt(2*sp.pi*sigma**2))*sp.exp(- ((x-mu)**2) / (2 * sigma**2))"
   ]
  },
  {
   "cell_type": "markdown",
   "metadata": {},
   "source": [
    "確率密度はscipyの関数を使って以下のようにも表すことができます。"
   ]
  },
  {
   "cell_type": "code",
   "execution_count": 15,
   "metadata": {},
   "outputs": [
    {
     "data": {
      "text/plain": [
       "0.228"
      ]
     },
     "execution_count": 15,
     "metadata": {},
     "output_type": "execute_result"
    }
   ],
   "source": [
    "# loc = 平均 scale = 標準偏差 x=確率変数\n",
    "stats.norm.pdf(loc = 4, scale = 0.8, x= 3)"
   ]
  },
  {
   "cell_type": "markdown",
   "metadata": {},
   "source": [
    "確率密度を図示するには以下のように実装していきます"
   ]
  },
  {
   "cell_type": "code",
   "execution_count": 16,
   "metadata": {},
   "outputs": [
    {
     "data": {
      "text/plain": [
       "[<matplotlib.lines.Line2D at 0x10f6ded30>]"
      ]
     },
     "execution_count": 16,
     "metadata": {},
     "output_type": "execute_result"
    },
    {
     "data": {
      "image/png": "[encoded data removed]",
      "text/plain": [
       "<matplotlib.figure.Figure at 0x10f6570b8>"
      ]
     },
     "metadata": {},
     "output_type": "display_data"
    }
   ],
   "source": [
    "x_plot = np.arange(start = 1,stop = 7.1, step = 0.1)\n",
    "plt.plot(x_plot,stats.norm.pdf(x = x_plot, loc = 4, scale = 0.8), color = 'black'\n",
    "        )"
   ]
  },
  {
   "cell_type": "markdown",
   "metadata": {},
   "source": [
    "### 累積分布関数\n",
    "ある確率変数に対して、xを実数とする時以下のように表せるF(X)を累積分布関数あるいは分布関数と言います。\n",
    "F(X) = P(X<=x)\n",
    "\n",
    "平たくいうと、ある値以下となる確率を計算してくれるものです。"
   ]
  },
  {
   "cell_type": "code",
   "execution_count": 19,
   "metadata": {},
   "outputs": [
    {
     "data": {
      "text/plain": [
       "0.106"
      ]
     },
     "execution_count": 19,
     "metadata": {},
     "output_type": "execute_result"
    }
   ],
   "source": [
    "stats.norm.cdf(loc = 4, scale = 0.8, x = 3)"
   ]
  },
  {
   "cell_type": "markdown",
   "metadata": {},
   "source": [
    "正規分布は平均に対して左右対称なので、データが平均値以下になる確率は50%になります"
   ]
  },
  {
   "cell_type": "code",
   "execution_count": 20,
   "metadata": {},
   "outputs": [
    {
     "data": {
      "text/plain": [
       "0.500"
      ]
     },
     "execution_count": 20,
     "metadata": {},
     "output_type": "execute_result"
    }
   ],
   "source": [
    "stats.norm.cdf(loc = 4, scale = 0.8, x = 4)"
   ]
  },
  {
   "cell_type": "markdown",
   "metadata": {},
   "source": [
    "累積分布関数で求められる値を下側確率と呼ぶ"
   ]
  },
  {
   "cell_type": "markdown",
   "metadata": {},
   "source": [
    "### パーセント点\n",
    "同母集団で下側確率が2.5%となるパーセント点は以下のようにして求める事ができます"
   ]
  },
  {
   "cell_type": "code",
   "execution_count": 21,
   "metadata": {},
   "outputs": [
    {
     "data": {
      "text/plain": [
       "2.432"
      ]
     },
     "execution_count": 21,
     "metadata": {},
     "output_type": "execute_result"
    }
   ],
   "source": [
    "stats.norm.ppf(loc = 4, scale = 0.8, q = 0.025)"
   ]
  },
  {
   "cell_type": "markdown",
   "metadata": {},
   "source": [
    "下側確率が50%となるパーセント点は平均に一致"
   ]
  },
  {
   "cell_type": "markdown",
   "metadata": {},
   "source": [
    "### t値\n",
    "t値は以下のように計算される統計量です。\n",
    "t値 = (標本平均 - 母平均) / 標準誤差\n",
    "標準誤差は、標本平均の標準偏差とみなすことが出来ます。つまりt値というのは、標本平均に対する標準化と言えそうです。"
   ]
  },
  {
   "cell_type": "markdown",
   "metadata": {},
   "source": [
    "### t値の標本分布\n",
    "ここでは以下のようにして、t値の標本分布をシミュレーションします。\n",
    "\n",
    "1. 母集団分布がN(x | 4,0.8**2)である母集団から、標本抽出シミュレーションを行う(サンプルサイズ = 10)\n",
    "1. 得られた標本から標本平均を求める\n",
    "1. 得られた標本から標準誤差を求める\n",
    "1. (標本平均 - 母平均) / 標準誤差 という計算によりt値を計算\n",
    "1. この試行を10000回繰り返す"
   ]
  },
  {
   "cell_type": "code",
   "execution_count": 22,
   "metadata": {},
   "outputs": [],
   "source": [
    "# 乱数の種\n",
    "np.random.seed(1)\n",
    "# t値を格納する入れ物\n",
    "t_value_array = np.zeros(10000)\n",
    "\n",
    "# 正規分布クラスのインスタンス\n",
    "norm_dist = stats.norm(loc = 4, scale = 0.8)\n",
    "# シミュレーションの実行\n",
    "for i in range(0, 10000):\n",
    "    sample = norm_dist.rvs(size = 10)\n",
    "    sample_mean = sp.mean(sample)\n",
    "    sample_std = sp.std(sample, ddof = 1)\n",
    "    sample_se = sample_std / sp.sqrt(len(sample))\n",
    "    t_value_array[i] = (sample_mean - 4) / sample_se"
   ]
  },
  {
   "cell_type": "code",
   "execution_count": 23,
   "metadata": {},
   "outputs": [
    {
     "data": {
      "text/plain": [
       "<matplotlib.axes._subplots.AxesSubplot at 0x10f674cc0>"
      ]
     },
     "execution_count": 23,
     "metadata": {},
     "output_type": "execute_result"
    },
    {
     "data": {
      "image/png": "[encoded data removed]",
      "text/plain": [
       "<matplotlib.figure.Figure at 0x10f682ac8>"
      ]
     },
     "metadata": {},
     "output_type": "display_data"
    }
   ],
   "source": [
    "# t値のヒストグラム\n",
    "sns.distplot(t_value_array, color = 'gray')"
   ]
  },
  {
   "cell_type": "markdown",
   "metadata": {},
   "source": [
    "t分布の平均値は0です。\n",
    "t分布の分散は1よりも少し大きくなります。\n",
    "自由度をnとして計算すると、t分布の分散は以下のようになります。\n",
    "\n",
    "t(n)の分散 = n / n-2"
   ]
  }
 ],
 "metadata": {
  "kernelspec": {
   "display_name": "Python 3",
   "language": "python",
   "name": "python3"
  },
  "language_info": {
   "codemirror_mode": {
    "name": "ipython",
    "version": 3
   },
   "file_extension": ".py",
   "mimetype": "text/x-python",
   "name": "python",
   "nbconvert_exporter": "python",
   "pygments_lexer": "ipython3",
   "version": "3.6.5"
  }
 },
 "nbformat": 4,
 "nbformat_minor": 2
}
